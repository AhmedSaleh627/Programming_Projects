{
  "nbformat": 4,
  "nbformat_minor": 0,
  "metadata": {
    "colab": {
      "provenance": []
    },
    "kernelspec": {
      "name": "python3",
      "display_name": "Python 3"
    },
    "language_info": {
      "name": "python"
    }
  },
  "cells": [
    {
      "cell_type": "markdown",
      "source": [
        "# Importing our libiraries"
      ],
      "metadata": {
        "id": "WcwEEvZAIU1r"
      }
    },
    {
      "cell_type": "code",
      "source": [
        "import torch\n",
        "import torch.nn as nn\n",
        "import torch.optim as optim\n",
        "import matplotlib.pyplot as plt\n",
        "import numpy as np\n",
        "from sklearn.metrics import classification_report\n",
        "import pandas as pd\n",
        "from sklearn.model_selection import train_test_split\n",
        "from torch.utils.data import TensorDataset, DataLoader\n",
        "from torch.utils.tensorboard import SummaryWriter\n",
        "\n",
        "path = \"/content/drive/MyDrive/DataSet/final_data_colors.csv\"\n",
        "dataset = pd.read_csv(path)\n",
        "dataset = pd.get_dummies(dataset, columns=['label'])\n"
      ],
      "metadata": {
        "id": "wnw_bezoyff8"
      },
      "execution_count": null,
      "outputs": []
    },
    {
      "cell_type": "markdown",
      "source": [
        "# Preparing our DataSet\n"
      ],
      "metadata": {
        "id": "wOU-6ihlIdQT"
      }
    },
    {
      "cell_type": "markdown",
      "source": [
        " We will split the dataset into training and testing datasets using the train_test_split function from scikit-learn. The original dataset is split into two parts, where 80% of the data is assigned to the training dataset and 20% is assigned to the testing dataset . The test_size parameter specifies the proportion of the dataset to be used for testing."
      ],
      "metadata": {
        "id": "QzGe-0JBKcaQ"
      }
    },
    {
      "cell_type": "markdown",
      "source": [
        "Then extract the label columns from both the training and testing datasets."
      ],
      "metadata": {
        "id": "13Hu5QQnKjUK"
      }
    },
    {
      "cell_type": "markdown",
      "source": [
        "Then drop the label columns from both the training and testing datasets using the drop method with axis=1, which indicates to drop columns. The label columns are removed from train_dataset and test_dataset, leaving only the features."
      ],
      "metadata": {
        "id": "XslegW9nKoLy"
      }
    },
    {
      "cell_type": "markdown",
      "source": [
        "The training data (train_dataset) and labels (train_labels) are converted to tensors (torch.Tensor) or arrays. This is done using the values attribute to extract the underlying NumPy arrays from the pandas DataFrame, and then converting them to tensors using torch.Tensor."
      ],
      "metadata": {
        "id": "-JO1ErapKrq8"
      }
    },
    {
      "cell_type": "markdown",
      "source": [
        "The DataLoader is responsible for loading the data in batches during training."
      ],
      "metadata": {
        "id": "6L0CHFUzKvDY"
      }
    },
    {
      "cell_type": "code",
      "source": [
        "train_dataset, test_dataset = train_test_split(dataset, test_size=0.2, random_state=8)\n",
        "\n",
        "train_labels = train_dataset[['label_Red', 'label_Green', 'label_Blue', 'label_Yellow', 'label_Orange', 'label_Pink', 'label_Purple', 'label_Brown', 'label_Grey', 'label_Black', 'label_White']]\n",
        "train_dataset = train_dataset.drop(['label_Red', 'label_Green', 'label_Blue', 'label_Yellow', 'label_Orange', 'label_Pink', 'label_Purple', 'label_Brown', 'label_Grey', 'label_Black', 'label_White'], axis=1)\n",
        "test_labels = test_dataset[['label_Red', 'label_Green', 'label_Blue', 'label_Yellow', 'label_Orange', 'label_Pink', 'label_Purple', 'label_Brown', 'label_Grey', 'label_Black', 'label_White']]\n",
        "test_dataset = test_dataset.drop(['label_Red', 'label_Green', 'label_Blue', 'label_Yellow', 'label_Orange', 'label_Pink', 'label_Purple', 'label_Brown', 'label_Grey', 'label_Black', 'label_White'], axis=1)\n",
        "\n",
        "\n",
        "# Convert train_dataset and train_labels to tensors or arrays\n",
        "train_data = torch.Tensor(train_dataset.values)\n",
        "train_target = torch.Tensor(train_labels.values)\n",
        "\n",
        "# Create TensorDataset from train_data and train_target\n",
        "train_dataset = TensorDataset(train_data, train_target)\n",
        "\n",
        "# Get the number of input and output features\n",
        "input_size = train_data.shape[1]\n",
        "output_size = train_target.shape[1]\n",
        "\n",
        "# Create DataLoader using the updated train_dataset\n",
        "train_dl = DataLoader(train_dataset, batch_size=1024, shuffle=True)\n"
      ],
      "metadata": {
        "id": "07GrWJOJG5pe"
      },
      "execution_count": null,
      "outputs": []
    },
    {
      "cell_type": "markdown",
      "source": [
        "# Adding the Layers\n"
      ],
      "metadata": {
        "id": "A1t-64X7Isd2"
      }
    },
    {
      "cell_type": "markdown",
      "source": [
        "The nn.Linear represents a linear transformation, mapping the input to the output using weights and biases. The dimensions of the linear layers are specified. The activation function used between each layer is RELU."
      ],
      "metadata": {
        "id": "RWjout4zLEvy"
      }
    },
    {
      "cell_type": "markdown",
      "source": [
        "The forward method defines the forward pass of the model, where the input x goes through each layer and activation function.\n",
        "x = self.relu(self.fc1(x)) applies the ReLU activation function to the output of fc1.\n",
        "The same pattern is repeated for fc2, fc3, fc4, and fc5"
      ],
      "metadata": {
        "id": "8QiDOTKQLKyB"
      }
    },
    {
      "cell_type": "markdown",
      "source": [
        "The final output of fc5 is returned as the output of the forward pass."
      ],
      "metadata": {
        "id": "3mtYQB78LQq4"
      }
    },
    {
      "cell_type": "code",
      "source": [
        "class ColorModel(nn.Module):\n",
        "    def __init__(self, input_size, output_size):\n",
        "        super(ColorModel, self).__init__()\n",
        "        self.fc1 = nn.Linear(input_size, 3)\n",
        "        self.fc2 = nn.Linear(3, 24)\n",
        "        self.fc3 = nn.Linear(24, 24)\n",
        "        self.fc4 = nn.Linear(24, 16)\n",
        "        self.fc5 = nn.Linear(16, output_size)\n",
        "        self.relu = nn.ReLU()\n",
        "\n",
        "    def forward(self, x):\n",
        "        x = self.relu(self.fc1(x))\n",
        "        x = self.relu(self.fc2(x))\n",
        "        x = self.relu(self.fc3(x))\n",
        "        x = self.relu(self.fc4(x))\n",
        "        x = self.fc5(x)\n",
        "        return x\n"
      ],
      "metadata": {
        "id": "jqUFs0MIG-e5"
      },
      "execution_count": null,
      "outputs": []
    },
    {
      "cell_type": "markdown",
      "source": [
        "# Choosing the Loss Function ,the optimizer and the Learning rate"
      ],
      "metadata": {
        "id": "RQ4xEVNAIxH3"
      }
    },
    {
      "cell_type": "code",
      "source": [
        "model = ColorModel(input_size, output_size)\n",
        "optimizer = optim.Adam(model.parameters(), lr=0.001)\n",
        "loss_function = nn.CrossEntropyLoss()\n"
      ],
      "metadata": {
        "id": "g9W98J4eHKIu"
      },
      "execution_count": null,
      "outputs": []
    },
    {
      "cell_type": "markdown",
      "source": [
        "# Training the model"
      ],
      "metadata": {
        "id": "M1qDyqiWJDrN"
      }
    },
    {
      "cell_type": "markdown",
      "source": [
        "We will initialize two empty lists, losses and epochs, to store the training losses and the corresponding epochs."
      ],
      "metadata": {
        "id": "uvWbiMBTLhgL"
      }
    },
    {
      "cell_type": "markdown",
      "source": [
        "The variable N is assigned to the length of the data loader (len(dl)), representing the number of batches in the data loader."
      ],
      "metadata": {
        "id": "W5ZAi6zcLn6j"
      }
    },
    {
      "cell_type": "markdown",
      "source": [
        "The inner loop iterates over the data loader using enumerate(dl), which returns both the batch index i and the batch data x and labels y."
      ],
      "metadata": {
        "id": "9qTlnzHzLorp"
      }
    },
    {
      "cell_type": "markdown",
      "source": [
        "Before each batch, optimizer.zero_grad() is called to zero out the gradients of the model parameters. This is necessary before performing backpropagation."
      ],
      "metadata": {
        "id": "jTWjXTcZLsH6"
      }
    },
    {
      "cell_type": "markdown",
      "source": [
        "loss_value is calculated by passing the batch data x through the model and comparing the predicted output with the target labels. torch.argmax(y, dim=1) is used to convert the one-hot encoded labels y to class indices for comparison."
      ],
      "metadata": {
        "id": "3TdpoARcLvCz"
      }
    },
    {
      "cell_type": "markdown",
      "source": [
        "loss_value.backward() computes the gradients of the loss with respect to the model parameters using backpropagation."
      ],
      "metadata": {
        "id": "zioBDl-ZLy-Z"
      }
    },
    {
      "cell_type": "markdown",
      "source": [
        "optimizer.step() updates the model parameters based on the computed gradients."
      ],
      "metadata": {
        "id": "L1dMhoHuL1eO"
      }
    },
    {
      "cell_type": "markdown",
      "source": [
        "Finally, the function returns the epochs and losses lists as NumPy arrays."
      ],
      "metadata": {
        "id": "I5Y3h7YzL3OS"
      }
    },
    {
      "cell_type": "code",
      "source": [
        "def train(dl, model, loss_function, num_epochs=3000):\n",
        "    losses = []\n",
        "    epochs = []\n",
        "    for epoch in range(num_epochs):\n",
        "        if epoch % 100 == 0:\n",
        "            print(f\"Epoch {epoch}/{num_epochs}\")\n",
        "        N = len(dl)\n",
        "        for i, (x, y) in enumerate(dl):\n",
        "            optimizer.zero_grad()\n",
        "            loss_value = loss_function(model(x), torch.argmax(y, dim=1))\n",
        "            loss_value.backward()\n",
        "            optimizer.step()\n",
        "            epochs.append(epoch + i/N)\n",
        "            losses.append(loss_value.item())\n",
        "    return np.array(epochs), np.array(losses)"
      ],
      "metadata": {
        "id": "xD1WRIrzHO3c"
      },
      "execution_count": null,
      "outputs": []
    },
    {
      "cell_type": "code",
      "source": [
        "epoch_data, loss_data = train(train_dl, model, loss_function)"
      ],
      "metadata": {
        "colab": {
          "base_uri": "https://localhost:8080/"
        },
        "id": "7FiImljNHPcF",
        "outputId": "429d1b06-91cf-4c44-ab6d-762abb123e1e"
      },
      "execution_count": null,
      "outputs": [
        {
          "output_type": "stream",
          "name": "stdout",
          "text": [
            "Epoch 0/3000\n",
            "Epoch 100/3000\n",
            "Epoch 200/3000\n",
            "Epoch 300/3000\n",
            "Epoch 400/3000\n",
            "Epoch 500/3000\n",
            "Epoch 600/3000\n",
            "Epoch 700/3000\n",
            "Epoch 800/3000\n",
            "Epoch 900/3000\n",
            "Epoch 1000/3000\n",
            "Epoch 1100/3000\n",
            "Epoch 1200/3000\n",
            "Epoch 1300/3000\n",
            "Epoch 1400/3000\n",
            "Epoch 1500/3000\n",
            "Epoch 1600/3000\n",
            "Epoch 1700/3000\n",
            "Epoch 1800/3000\n",
            "Epoch 1900/3000\n",
            "Epoch 2000/3000\n",
            "Epoch 2100/3000\n",
            "Epoch 2200/3000\n",
            "Epoch 2300/3000\n",
            "Epoch 2400/3000\n",
            "Epoch 2500/3000\n",
            "Epoch 2600/3000\n",
            "Epoch 2700/3000\n",
            "Epoch 2800/3000\n",
            "Epoch 2900/3000\n"
          ]
        }
      ]
    },
    {
      "cell_type": "markdown",
      "source": [
        "# Plotting the Loss\n",
        "\n"
      ],
      "metadata": {
        "id": "nKlHAXviJOhA"
      }
    },
    {
      "cell_type": "code",
      "source": [
        "epoch_data_avgd = epoch_data.reshape(20,-1).mean(axis=1)\n",
        "loss_data_avgd = loss_data.reshape(20,-1).mean(axis=1)\n",
        "plt.plot(epoch_data_avgd, loss_data_avgd, 'o--')\n",
        "plt.xlabel('Epoch Number')\n",
        "plt.ylabel('Cross Entropy')\n",
        "plt.title('Cross Entropy (avgd per epoch)')"
      ],
      "metadata": {
        "colab": {
          "base_uri": "https://localhost:8080/",
          "height": 489
        },
        "id": "gbDOwtNDzgbY",
        "outputId": "ffc82813-1c98-40cd-b93a-8f9701b360aa"
      },
      "execution_count": null,
      "outputs": [
        {
          "output_type": "execute_result",
          "data": {
            "text/plain": [
              "Text(0.5, 1.0, 'Cross Entropy (avgd per epoch)')"
            ]
          },
          "metadata": {},
          "execution_count": 25
        },
        {
          "output_type": "display_data",
          "data": {
            "text/plain": [
              "<Figure size 640x480 with 1 Axes>"
            ],
            "image/png": "[encoded data removed]"
          },
          "metadata": {}
        }
      ]
    },
    {
      "cell_type": "markdown",
      "source": [
        "# Evaluation of the model and its accuracy"
      ],
      "metadata": {
        "id": "-pUNGugWJeHg"
      }
    },
    {
      "cell_type": "markdown",
      "source": [
        "Calculating the accuracy"
      ],
      "metadata": {
        "id": "d6A1PuJeJoex"
      }
    },
    {
      "cell_type": "code",
      "source": [
        "from sklearn.metrics import accuracy_score, classification_report, confusion_matrix\n",
        "# Evaluation\n",
        "model.eval()\n",
        "test_data = torch.Tensor(test_dataset.values)\n",
        "test_target = torch.Tensor(test_labels.values)\n",
        "\n",
        "# Predict labels for test data\n",
        "with torch.no_grad():\n",
        "    predictions = model(test_data)\n",
        "    predicted_labels = torch.argmax(predictions, dim=1).numpy()\n",
        "\n",
        "# Calculate accuracy\n",
        "true_labels = torch.argmax(test_target, dim=1).numpy()\n",
        "accuracy = accuracy_score(true_labels, predicted_labels)\n",
        "print(f'Accuracy: {accuracy*100}')"
      ],
      "metadata": {
        "colab": {
          "base_uri": "https://localhost:8080/"
        },
        "id": "bJVrMRUb0E3C",
        "outputId": "4da9f98f-f104-4cae-92d1-2433926dc859"
      },
      "execution_count": null,
      "outputs": [
        {
          "output_type": "stream",
          "name": "stdout",
          "text": [
            "Accuracy: 87.73491592482691\n"
          ]
        }
      ]
    },
    {
      "cell_type": "markdown",
      "source": [
        "Classification Report"
      ],
      "metadata": {
        "id": "9ZN-EwYpJlOj"
      }
    },
    {
      "cell_type": "code",
      "source": [
        "# Print classification report\n",
        "target_names = ['Red', 'Green', 'Blue', 'Yellow', 'Orange', 'Pink', 'Purple', 'Brown', 'Grey', 'Black', 'White']\n",
        "classification_rep = classification_report(true_labels, predicted_labels, target_names=target_names)\n",
        "print('Classification Report:')\n",
        "print(classification_rep)"
      ],
      "metadata": {
        "colab": {
          "base_uri": "https://localhost:8080/"
        },
        "id": "rb8-tqaK0RSl",
        "outputId": "216b91b5-c6a3-46b6-b50f-52420f5566bf"
      },
      "execution_count": null,
      "outputs": [
        {
          "output_type": "stream",
          "name": "stdout",
          "text": [
            "Classification Report:\n",
            "              precision    recall  f1-score   support\n",
            "\n",
            "         Red       0.79      0.76      0.78        50\n",
            "       Green       0.93      0.95      0.94       294\n",
            "        Blue       0.93      0.93      0.93       224\n",
            "      Yellow       0.85      0.81      0.83        57\n",
            "      Orange       0.86      0.65      0.74        37\n",
            "        Pink       0.83      0.89      0.86       120\n",
            "      Purple       0.83      0.79      0.81       104\n",
            "       Brown       0.81      0.86      0.84        77\n",
            "        Grey       0.71      0.69      0.70        29\n",
            "       Black       0.92      0.86      0.89        14\n",
            "       White       0.67      0.80      0.73         5\n",
            "\n",
            "    accuracy                           0.88      1011\n",
            "   macro avg       0.83      0.82      0.82      1011\n",
            "weighted avg       0.88      0.88      0.88      1011\n",
            "\n"
          ]
        }
      ]
    },
    {
      "cell_type": "markdown",
      "source": [
        "Confusion Matrix"
      ],
      "metadata": {
        "id": "wPv7j8mmJqqZ"
      }
    },
    {
      "cell_type": "code",
      "source": [
        "import seaborn as sns\n",
        "# Print confusion matrix\n",
        "confusion_mat = confusion_matrix(true_labels, predicted_labels)\n",
        "plt.figure(figsize=(10, 8))\n",
        "sns.heatmap(confusion_mat, annot=True, fmt='d', cmap='Blues', xticklabels=target_names, yticklabels=target_names)\n",
        "plt.xlabel('Predicted Labels')\n",
        "plt.ylabel('Actual Labels')\n",
        "plt.title('Confusion Matrix')\n",
        "plt.show()"
      ],
      "metadata": {
        "colab": {
          "base_uri": "https://localhost:8080/",
          "height": 718
        },
        "id": "FnwSbyIN0Vf8",
        "outputId": "cf49526e-9f2f-4114-f858-c59bdf6e3781"
      },
      "execution_count": null,
      "outputs": [
        {
          "output_type": "display_data",
          "data": {
            "text/plain": [
              "<Figure size 1000x800 with 2 Axes>"
            ],
            "image/png": "[encoded data removed]"
          },
          "metadata": {}
        }
      ]
    }
  ]
}