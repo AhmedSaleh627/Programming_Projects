{
  "nbformat": 4,
  "nbformat_minor": 0,
  "metadata": {
    "colab": {
      "provenance": []
    },
    "kernelspec": {
      "name": "python3",
      "display_name": "Python 3"
    },
    "language_info": {
      "name": "python"
    }
  },
  "cells": [
    {
      "cell_type": "markdown",
      "source": [
        "# Firstly: K-Nearest Neighbors"
      ],
      "metadata": {
        "id": "QBJED133arVf"
      }
    },
    {
      "cell_type": "code",
      "execution_count": null,
      "metadata": {
        "id": "XBTpnszzRtb8"
      },
      "outputs": [],
      "source": [
        "# Importing the required libraries\n",
        "import pandas as pd\n",
        "import matplotlib.pyplot as plt\n",
        "from sklearn.neighbors import KNeighborsClassifier\n",
        "from sklearn.model_selection import train_test_split\n",
        "from sklearn.metrics import accuracy_score\n",
        "from sklearn.metrics import classification_report\n",
        "import numpy as np\n",
        "# Importing the dataset\n",
        "path=\"/content/drive/MyDrive/DataSet/final_data_colors.csv\"\n",
        "df=pd.read_csv(path)\n"
      ]
    },
    {
      "cell_type": "markdown",
      "source": [
        "Defining our data ( RGB values )"
      ],
      "metadata": {
        "id": "Djy-DsGbuW2Z"
      }
    },
    {
      "cell_type": "code",
      "source": [
        "x=np.array(df[['red','green','blue']])\n"
      ],
      "metadata": {
        "id": "jz7ZIKb9LgP0"
      },
      "execution_count": null,
      "outputs": []
    },
    {
      "cell_type": "markdown",
      "source": [
        "Defining our Labels ( Target = Color names )"
      ],
      "metadata": {
        "id": "GwdJ3vPIueR4"
      }
    },
    {
      "cell_type": "code",
      "source": [
        "y=np.array(df['label'])"
      ],
      "metadata": {
        "id": "XwJ52RBsQ3BY"
      },
      "execution_count": null,
      "outputs": []
    },
    {
      "cell_type": "markdown",
      "source": [
        "Data Splitting using K-fold cross validation ( We can tune the test size here to get better accuracy )"
      ],
      "metadata": {
        "id": "GtRRrwDruwwc"
      }
    },
    {
      "cell_type": "code",
      "source": [
        "x_train , x_test , y_train , y_test = train_test_split(x,y,test_size=0.2,random_state = 25)\n",
        "x_test.shape"
      ],
      "metadata": {
        "colab": {
          "base_uri": "https://localhost:8080/"
        },
        "id": "df1Sjqj_REdZ",
        "outputId": "b6b17e97-b6ba-4684-ecfd-b254667c83e2"
      },
      "execution_count": null,
      "outputs": [
        {
          "output_type": "execute_result",
          "data": {
            "text/plain": [
              "(1011, 3)"
            ]
          },
          "metadata": {},
          "execution_count": 69
        }
      ]
    },
    {
      "cell_type": "markdown",
      "source": [
        " Training the model and finding the accuraccy ( We can also tune the K value to get better accuracy )\n",
        "\n"
      ],
      "metadata": {
        "id": "NnzJEtAkvKdx"
      }
    },
    {
      "cell_type": "code",
      "source": [
        "\n",
        "knn = KNeighborsClassifier(n_neighbors=20)\n",
        "knn.fit(x_train, y_train)\n",
        "y_pred = knn.predict(x_test)\n",
        "accuracy=knn.score(x_test,y_test) * (100)\n",
        "print(f'K-Nearest Neighbors: {accuracy:.2f}' ,end=\"\" )\n",
        "print(\"%\")\n",
        "\n"
      ],
      "metadata": {
        "id": "-iDO9umISWPA"
      },
      "execution_count": null,
      "outputs": []
    },
    {
      "cell_type": "code",
      "source": [
        "\n",
        "print(classification_report(y_test,y_pred))\n"
      ],
      "metadata": {
        "id": "UrHtjWQ7UVC_",
        "colab": {
          "base_uri": "https://localhost:8080/"
        },
        "outputId": "2a6f116b-7554-4caa-9ed0-dec08897b784"
      },
      "execution_count": null,
      "outputs": [
        {
          "output_type": "stream",
          "name": "stdout",
          "text": [
            "              precision    recall  f1-score   support\n",
            "\n",
            "       Black       0.67      0.67      0.67         9\n",
            "        Blue       0.90      0.95      0.92       229\n",
            "       Brown       0.83      0.83      0.83        92\n",
            "       Green       0.93      0.92      0.93       276\n",
            "        Grey       0.76      0.74      0.75        34\n",
            "      Orange       0.71      0.81      0.76        43\n",
            "        Pink       0.84      0.82      0.83        99\n",
            "      Purple       0.83      0.84      0.84       108\n",
            "         Red       0.90      0.78      0.83        55\n",
            "       White       0.67      1.00      0.80         2\n",
            "      Yellow       0.87      0.81      0.84        64\n",
            "\n",
            "    accuracy                           0.87      1011\n",
            "   macro avg       0.81      0.83      0.82      1011\n",
            "weighted avg       0.87      0.87      0.87      1011\n",
            "\n"
          ]
        }
      ]
    },
    {
      "cell_type": "markdown",
      "source": [
        "# Decision Tree\n",
        "\n"
      ],
      "metadata": {
        "id": "a5r-QxmMvnhS"
      }
    },
    {
      "cell_type": "code",
      "source": [
        "from sklearn.tree import DecisionTreeClassifier\n",
        "from sklearn import tree\n",
        "decision_tree = DecisionTreeClassifier( max_depth=10)\n",
        "decision_tree.fit(x_train, y_train)\n",
        "y_pred_decision_tree = decision_tree.predict(x_test)\n",
        "accuracy_decision_tree = accuracy_score(y_test, y_pred_decision_tree)\n",
        "\n",
        "# Print the accuracy\n",
        "accuracy=accuracy_decision_tree*100\n",
        "print(f'Decision Tree Accuracy: {accuracy:.2f}' ,end=\"\" )\n",
        "print(\"%\")\n",
        "\n",
        "print(classification_report(y_test,y_pred_decision_tree))\n"
      ],
      "metadata": {
        "colab": {
          "base_uri": "https://localhost:8080/"
        },
        "id": "xcGM2jYpwVzc",
        "outputId": "e2f56f3f-2dc2-483b-da9b-a31e3ef6b60a"
      },
      "execution_count": null,
      "outputs": [
        {
          "output_type": "stream",
          "name": "stdout",
          "text": [
            "Decision Tree Accuracy: 82.29%\n",
            "              precision    recall  f1-score   support\n",
            "\n",
            "       Black       0.75      0.67      0.71         9\n",
            "        Blue       0.89      0.92      0.90       229\n",
            "       Brown       0.83      0.73      0.77        92\n",
            "       Green       0.90      0.91      0.90       276\n",
            "        Grey       0.54      0.59      0.56        34\n",
            "      Orange       0.62      0.81      0.71        43\n",
            "        Pink       0.76      0.79      0.77        99\n",
            "      Purple       0.79      0.71      0.75       108\n",
            "         Red       0.80      0.73      0.76        55\n",
            "       White       0.50      0.50      0.50         2\n",
            "      Yellow       0.79      0.75      0.77        64\n",
            "\n",
            "    accuracy                           0.82      1011\n",
            "   macro avg       0.74      0.74      0.74      1011\n",
            "weighted avg       0.83      0.82      0.82      1011\n",
            "\n"
          ]
        }
      ]
    },
    {
      "cell_type": "markdown",
      "source": [
        "# Random Forest"
      ],
      "metadata": {
        "id": "8t-bkTo9gGhE"
      }
    },
    {
      "cell_type": "code",
      "source": [
        "# Random Forest\n",
        "from sklearn.ensemble import RandomForestClassifier\n",
        "\n",
        "# Initialize and train the Random Forest classifier\n",
        "random_forest = RandomForestClassifier(n_estimators=400, max_depth=9)\n",
        "random_forest.fit(x_train, y_train)\n",
        "\n",
        "# Make predictions and calculate accuracy\n",
        "y_pred_random_forest = random_forest.predict(x_test)\n",
        "accuracy_random_forest = accuracy_score(y_test, y_pred_random_forest)\n",
        "\n",
        "# Print the accuracy\n",
        "accuracy=accuracy_random_forest*100\n",
        "print(f'Random Forest Accuracy: {accuracy:.2f}' ,end=\"\" )\n",
        "print(\"%\")\n",
        "print(classification_report(y_test,y_pred_random_forest))\n"
      ],
      "metadata": {
        "colab": {
          "base_uri": "https://localhost:8080/"
        },
        "id": "qpANiBNs7TjR",
        "outputId": "b1216695-c82f-496e-a041-ae7d04096f26"
      },
      "execution_count": null,
      "outputs": [
        {
          "output_type": "stream",
          "name": "stdout",
          "text": [
            "Random Forest Accuracy: 87.04%\n",
            "              precision    recall  f1-score   support\n",
            "\n",
            "       Black       0.70      0.78      0.74         9\n",
            "        Blue       0.92      0.97      0.94       229\n",
            "       Brown       0.86      0.76      0.81        92\n",
            "       Green       0.94      0.93      0.93       276\n",
            "        Grey       0.74      0.59      0.66        34\n",
            "      Orange       0.71      0.81      0.76        43\n",
            "        Pink       0.83      0.84      0.83        99\n",
            "      Purple       0.82      0.83      0.83       108\n",
            "         Red       0.88      0.80      0.84        55\n",
            "       White       0.33      0.50      0.40         2\n",
            "      Yellow       0.79      0.81      0.80        64\n",
            "\n",
            "    accuracy                           0.87      1011\n",
            "   macro avg       0.77      0.78      0.78      1011\n",
            "weighted avg       0.87      0.87      0.87      1011\n",
            "\n"
          ]
        }
      ]
    },
    {
      "cell_type": "markdown",
      "source": [
        "# Stacking Classifier"
      ],
      "metadata": {
        "id": "nPp6kFdmgMTF"
      }
    },
    {
      "cell_type": "code",
      "source": [
        "# Stacking Classifier\n",
        "from sklearn.ensemble import StackingClassifier\n",
        "\n",
        "# Initialize base classifiers\n",
        "estimators = [('knn', KNeighborsClassifier(n_neighbors= 10)), ('decision_tree', DecisionTreeClassifier(random_state=23))]\n",
        "stacking_clf = StackingClassifier(estimators=estimators, final_estimator=RandomForestClassifier(random_state=42))\n",
        "\n",
        "# Train the Stacking Classifier\n",
        "stacking_clf.fit(x_train, y_train)\n",
        "\n",
        "# Make predictions and calculate accuracy\n",
        "y_pred_stacking = stacking_clf.predict(x_test)\n",
        "accuracy_stacking = accuracy_score(y_test, y_pred_stacking)\n",
        "\n",
        "# Print the accuracy\n",
        "accuracy=accuracy_stacking*100\n",
        "print(f'Stacking Classifier: {accuracy:.2f}' ,end=\"\" )\n",
        "print(\"%\")\n",
        "print(classification_report(y_test,y_pred_stacking))"
      ],
      "metadata": {
        "colab": {
          "base_uri": "https://localhost:8080/"
        },
        "id": "89ZwK7Gp8H4a",
        "outputId": "725e6d48-c4ff-42e9-e2d8-1b6bcc73c762"
      },
      "execution_count": null,
      "outputs": [
        {
          "output_type": "stream",
          "name": "stdout",
          "text": [
            "Stacking Classifier: 85.86%\n",
            "              precision    recall  f1-score   support\n",
            "\n",
            "       Black       0.86      0.67      0.75         9\n",
            "        Blue       0.91      0.92      0.92       229\n",
            "       Brown       0.87      0.75      0.81        92\n",
            "       Green       0.91      0.94      0.93       276\n",
            "        Grey       0.75      0.62      0.68        34\n",
            "      Orange       0.72      0.84      0.77        43\n",
            "        Pink       0.82      0.77      0.79        99\n",
            "      Purple       0.79      0.83      0.81       108\n",
            "         Red       0.82      0.82      0.82        55\n",
            "       White       0.25      0.50      0.33         2\n",
            "      Yellow       0.83      0.83      0.83        64\n",
            "\n",
            "    accuracy                           0.86      1011\n",
            "   macro avg       0.78      0.77      0.77      1011\n",
            "weighted avg       0.86      0.86      0.86      1011\n",
            "\n"
          ]
        }
      ]
    },
    {
      "cell_type": "markdown",
      "source": [
        "# Voting Classifier"
      ],
      "metadata": {
        "id": "FzZM1nQwgWNQ"
      }
    },
    {
      "cell_type": "code",
      "source": [
        "# Voting Classifier\n",
        "from sklearn.ensemble import VotingClassifier\n",
        "\n",
        "# Initialize and train the Voting Classifier\n",
        "voting_clf = VotingClassifier(estimators=[('knn', knn), ('decision_tree', decision_tree), ('random_forest', random_forest)], voting='hard') # hard voting: majority rule voting, soft voting: weighted average probabilities\n",
        "voting_clf.fit(x_train, y_train)\n",
        "\n",
        "# Make predictions and calculate accuracy\n",
        "y_pred_voting = voting_clf.predict(x_test)\n",
        "accuracy_voting = accuracy_score(y_test, y_pred_voting)\n",
        "\n",
        "\n",
        "# Print the accuracy\n",
        "accuracy=accuracy_voting*100\n",
        "print(f'Voting Classifier: {accuracy:.2f}' ,end=\"\" )\n",
        "print(\"%\")\n",
        "print(classification_report(y_test,y_pred_voting))"
      ],
      "metadata": {
        "colab": {
          "base_uri": "https://localhost:8080/"
        },
        "id": "4fSlB2ZY8RC9",
        "outputId": "22544906-d156-4c09-eaf8-a7cc75ff0475"
      },
      "execution_count": null,
      "outputs": [
        {
          "output_type": "stream",
          "name": "stdout",
          "text": [
            "Voting Classifier: 87.44%\n",
            "              precision    recall  f1-score   support\n",
            "\n",
            "       Black       0.70      0.78      0.74         9\n",
            "        Blue       0.91      0.97      0.94       229\n",
            "       Brown       0.85      0.82      0.83        92\n",
            "       Green       0.94      0.92      0.93       276\n",
            "        Grey       0.80      0.71      0.75        34\n",
            "      Orange       0.70      0.86      0.77        43\n",
            "        Pink       0.82      0.82      0.82        99\n",
            "      Purple       0.85      0.81      0.83       108\n",
            "         Red       0.89      0.76      0.82        55\n",
            "       White       0.67      1.00      0.80         2\n",
            "      Yellow       0.84      0.80      0.82        64\n",
            "\n",
            "    accuracy                           0.87      1011\n",
            "   macro avg       0.81      0.84      0.82      1011\n",
            "weighted avg       0.88      0.87      0.87      1011\n",
            "\n"
          ]
        }
      ]
    },
    {
      "cell_type": "markdown",
      "source": [
        "# K-Means"
      ],
      "metadata": {
        "id": "9VjM33tygjGr"
      }
    },
    {
      "cell_type": "code",
      "source": [
        "# Import KMeans\n",
        "from sklearn.cluster import KMeans\n",
        "\n",
        "# Perform K-Means clustering\n",
        "n_clusters = 5000  # Number of clusters based on the true labels\n",
        "kmeans = KMeans(n_clusters=n_clusters, random_state=42, n_init=20, max_iter=1000)\n",
        "kmeans.fit(x)\n",
        "y_pred = kmeans.labels_\n",
        "print(\"The K-Means score is: %.2f\" % (-kmeans.score(x)),end=\"\")\n",
        "print(\"%\")\n",
        "print()\n",
        "\n",
        "# Add elbow method to find the optimal number of clusters\n",
        "inertias = []\n",
        "max_clusters = 10\n",
        "for i in range(1, max_clusters+1):\n",
        "    kmeans = KMeans(n_clusters=i, random_state=42)\n",
        "    kmeans.fit(x)\n",
        "    inertias.append(kmeans.inertia_)\n",
        "\n",
        "# Display the elbow plot\n",
        "plt.plot(range(1, 11), inertias, marker='o')\n",
        "plt.xlabel('Number of clusters')\n",
        "plt.ylabel('Inertia')\n",
        "plt.show()\n"
      ],
      "metadata": {
        "colab": {
          "base_uri": "https://localhost:8080/",
          "height": 867
        },
        "id": "3jwkginIF3lW",
        "outputId": "5b631a97-3a55-467f-c4fd-595022c75de9"
      },
      "execution_count": null,
      "outputs": [
        {
          "output_type": "stream",
          "name": "stdout",
          "text": [
            "The K-Means score is: 87.50%\n",
            "\n"
          ]
        },
        {
          "output_type": "stream",
          "name": "stderr",
          "text": [
            "/usr/local/lib/python3.10/dist-packages/sklearn/cluster/_kmeans.py:870: FutureWarning: The default value of `n_init` will change from 10 to 'auto' in 1.4. Set the value of `n_init` explicitly to suppress the warning\n",
            "  warnings.warn(\n",
            "/usr/local/lib/python3.10/dist-packages/sklearn/cluster/_kmeans.py:870: FutureWarning: The default value of `n_init` will change from 10 to 'auto' in 1.4. Set the value of `n_init` explicitly to suppress the warning\n",
            "  warnings.warn(\n",
            "/usr/local/lib/python3.10/dist-packages/sklearn/cluster/_kmeans.py:870: FutureWarning: The default value of `n_init` will change from 10 to 'auto' in 1.4. Set the value of `n_init` explicitly to suppress the warning\n",
            "  warnings.warn(\n",
            "/usr/local/lib/python3.10/dist-packages/sklearn/cluster/_kmeans.py:870: FutureWarning: The default value of `n_init` will change from 10 to 'auto' in 1.4. Set the value of `n_init` explicitly to suppress the warning\n",
            "  warnings.warn(\n",
            "/usr/local/lib/python3.10/dist-packages/sklearn/cluster/_kmeans.py:870: FutureWarning: The default value of `n_init` will change from 10 to 'auto' in 1.4. Set the value of `n_init` explicitly to suppress the warning\n",
            "  warnings.warn(\n",
            "/usr/local/lib/python3.10/dist-packages/sklearn/cluster/_kmeans.py:870: FutureWarning: The default value of `n_init` will change from 10 to 'auto' in 1.4. Set the value of `n_init` explicitly to suppress the warning\n",
            "  warnings.warn(\n",
            "/usr/local/lib/python3.10/dist-packages/sklearn/cluster/_kmeans.py:870: FutureWarning: The default value of `n_init` will change from 10 to 'auto' in 1.4. Set the value of `n_init` explicitly to suppress the warning\n",
            "  warnings.warn(\n",
            "/usr/local/lib/python3.10/dist-packages/sklearn/cluster/_kmeans.py:870: FutureWarning: The default value of `n_init` will change from 10 to 'auto' in 1.4. Set the value of `n_init` explicitly to suppress the warning\n",
            "  warnings.warn(\n",
            "/usr/local/lib/python3.10/dist-packages/sklearn/cluster/_kmeans.py:870: FutureWarning: The default value of `n_init` will change from 10 to 'auto' in 1.4. Set the value of `n_init` explicitly to suppress the warning\n",
            "  warnings.warn(\n",
            "/usr/local/lib/python3.10/dist-packages/sklearn/cluster/_kmeans.py:870: FutureWarning: The default value of `n_init` will change from 10 to 'auto' in 1.4. Set the value of `n_init` explicitly to suppress the warning\n",
            "  warnings.warn(\n"
          ]
        },
        {
          "output_type": "display_data",
          "data": {
            "text/plain": [
              "<Figure size 640x480 with 1 Axes>"
            ],
            "image/png": "[encoded data removed]"
          },
          "metadata": {}
        }
      ]
    },
    {
      "cell_type": "markdown",
      "source": [
        "# Support Vector Classifier"
      ],
      "metadata": {
        "id": "0NFxlA0Ugl1m"
      }
    },
    {
      "cell_type": "code",
      "source": [
        "from sklearn.svm import SVC\n",
        "X=np.array(df[['red','green','blue']])\n",
        "Y=np.array(df['label'])\n",
        "X_train, X_test, y_train, y_test = train_test_split(x, y, test_size=0.2, random_state=100)\n",
        "svm = SVC(kernel='rbf')  # Radial basis function kernel\n",
        "svm.fit(X_train, y_train)\n",
        "\n",
        "# Step 4: Make predictions on the testing set\n",
        "y_pred_SVM = svm.predict(X_test)\n",
        "\n",
        "# Step 5: Evaluate the model\n",
        "accuracy = accuracy_score(y_test, y_pred_SVM) * (100)\n",
        "\n",
        "print(f'Support Vector Classifier Accuracy: {accuracy:.2f}' ,end=\"\" )\n",
        "print(\"%\")\n",
        "# Classification report\n",
        "report = classification_report(y_test, y_pred_SVM)\n",
        "print(\"Classification Report:\")\n",
        "print(report)\n",
        "\n",
        "\n"
      ],
      "metadata": {
        "id": "pyUtPl-tGMCe",
        "colab": {
          "base_uri": "https://localhost:8080/"
        },
        "outputId": "b66d0971-b916-48ab-e039-c100be054390"
      },
      "execution_count": null,
      "outputs": [
        {
          "output_type": "stream",
          "name": "stdout",
          "text": [
            "Support Vector Classifier Accuracy: 90.21%\n",
            "Classification Report:\n",
            "              precision    recall  f1-score   support\n",
            "\n",
            "       Black       0.61      0.92      0.73        12\n",
            "        Blue       0.94      0.96      0.95       213\n",
            "       Brown       0.86      0.86      0.86        74\n",
            "       Green       0.97      0.95      0.96       315\n",
            "        Grey       0.86      0.79      0.83        24\n",
            "      Orange       0.79      0.77      0.78        48\n",
            "        Pink       0.87      0.90      0.88       102\n",
            "      Purple       0.88      0.83      0.86       108\n",
            "         Red       0.87      0.75      0.81        53\n",
            "       White       0.64      0.70      0.67        10\n",
            "      Yellow       0.79      0.94      0.86        52\n",
            "\n",
            "    accuracy                           0.90      1011\n",
            "   macro avg       0.83      0.85      0.84      1011\n",
            "weighted avg       0.91      0.90      0.90      1011\n",
            "\n"
          ]
        }
      ]
    }
  ]
}